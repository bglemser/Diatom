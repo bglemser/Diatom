{
  "cells": [
    {
      "cell_type": "markdown",
      "metadata": {
        "id": "GpZTytvWz9YJ"
      },
      "source": [
        "# Housing Price Prediction using a Neural Network\n",
        "\n",
        "## Objective\n",
        "In this exercise, you will:\n",
        "1. Create a synthetic dataset for housing prices based on a linear equation.\n",
        "2. Build and train a simple neural network with one neuron to predict housing prices.\n",
        "\n",
        "---\n",
        "\n",
        "## Step 1: Import Libraries\n",
        "Let's start by importing the necessary libraries."
      ]
    },
    {
      "cell_type": "code",
      "execution_count": 20,
      "metadata": {
        "id": "R-gakJU0z9YM"
      },
      "outputs": [],
      "source": [
        "import numpy as np\n",
        "import pandas as pd\n",
        "import matplotlib.pyplot as plt\n",
        "import tensorflow as tf"
      ]
    },
    {
      "cell_type": "markdown",
      "metadata": {
        "id": "CcTO2TwAz9YP"
      },
      "source": [
        "---\n",
        "\n",
        "## Step 2: Create a Synthetic Dataset\n",
        "We will create a dataset for housing prices that follows the equation\n",
        "\n",
        "$\\text{price}$ = $\\text{number of bedrooms}$ $\\times  x$ + $\\text{base price}$\n"
      ]
    },
    {
      "cell_type": "code",
      "execution_count": 21,
      "metadata": {
        "id": "3FEL06RIz9YQ"
      },
      "outputs": [
        {
          "data": {
            "text/html": [
              "<div>\n",
              "<style scoped>\n",
              "    .dataframe tbody tr th:only-of-type {\n",
              "        vertical-align: middle;\n",
              "    }\n",
              "\n",
              "    .dataframe tbody tr th {\n",
              "        vertical-align: top;\n",
              "    }\n",
              "\n",
              "    .dataframe thead th {\n",
              "        text-align: right;\n",
              "    }\n",
              "</style>\n",
              "<table border=\"1\" class=\"dataframe\">\n",
              "  <thead>\n",
              "    <tr style=\"text-align: right;\">\n",
              "      <th></th>\n",
              "      <th>bedrooms</th>\n",
              "      <th>price</th>\n",
              "    </tr>\n",
              "  </thead>\n",
              "  <tbody>\n",
              "    <tr>\n",
              "      <th>0</th>\n",
              "      <td>5</td>\n",
              "      <td>3.5</td>\n",
              "    </tr>\n",
              "    <tr>\n",
              "      <th>1</th>\n",
              "      <td>5</td>\n",
              "      <td>3.5</td>\n",
              "    </tr>\n",
              "    <tr>\n",
              "      <th>2</th>\n",
              "      <td>5</td>\n",
              "      <td>3.5</td>\n",
              "    </tr>\n",
              "    <tr>\n",
              "      <th>3</th>\n",
              "      <td>4</td>\n",
              "      <td>3.0</td>\n",
              "    </tr>\n",
              "    <tr>\n",
              "      <th>4</th>\n",
              "      <td>2</td>\n",
              "      <td>2.0</td>\n",
              "    </tr>\n",
              "  </tbody>\n",
              "</table>\n",
              "</div>"
            ],
            "text/plain": [
              "   bedrooms  price\n",
              "0         5    3.5\n",
              "1         5    3.5\n",
              "2         5    3.5\n",
              "3         4    3.0\n",
              "4         2    2.0"
            ]
          },
          "execution_count": 21,
          "metadata": {},
          "output_type": "execute_result"
        }
      ],
      "source": [
        "# Number of samples\n",
        "n_samples = 1000\n",
        "\n",
        "# Generate random number of bedrooms between 1 and 5\n",
        "bedrooms = np.random.randint(1, 6, n_samples)\n",
        "\n",
        "# Constants for the equation\n",
        "x = 0.5  # The price added per bedroom in onehundred thousands\n",
        "base_price = 1  # Base price of a house in onehundred thousands\n",
        "\n",
        "# Generate housing prices based on the equation\n",
        "prices = bedrooms * x + base_price\n",
        "\n",
        "# Create a DataFrame\n",
        "df = pd.DataFrame({'bedrooms': bedrooms, 'price': prices})\n",
        "\n",
        "# Show the first few rows\n",
        "df.head()"
      ]
    },
    {
      "cell_type": "markdown",
      "metadata": {
        "id": "8dJgmthTz9YS"
      },
      "source": [
        "---\n",
        "\n",
        "## Step 3: Visualize the Data\n",
        "Plot the data to visualize the relationship between the number of bedrooms and the price.\n"
      ]
    },
    {
      "cell_type": "code",
      "execution_count": 22,
      "metadata": {
        "id": "pMxSSgKwz9YT"
      },
      "outputs": [
        {
          "data": {
            "image/png": "[encoded data removed]",
            "text/plain": [
              "<Figure size 640x480 with 1 Axes>"
            ]
          },
          "metadata": {},
          "output_type": "display_data"
        }
      ],
      "source": [
        "plt.scatter(df['bedrooms'], df['price'])\n",
        "plt.xlabel('Number of Bedrooms')\n",
        "plt.ylabel('Price')\n",
        "plt.title('Bedrooms vs Price')\n",
        "plt.show()\n"
      ]
    },
    {
      "cell_type": "markdown",
      "metadata": {
        "id": "2gSVIIDnz9YT"
      },
      "source": [
        "---\n",
        "\n",
        "## Step 4: Preprocess the Data\n",
        "Split the data into features (`X`) and labels (`y`), and then into training and testing sets.\n"
      ]
    },
    {
      "cell_type": "code",
      "execution_count": 23,
      "metadata": {
        "id": "iYuibIoSz9YU"
      },
      "outputs": [],
      "source": [
        "# Features and Labels\n",
        "X = df[['bedrooms']]\n",
        "y = df['price']\n",
        "\n",
        "# TODO Split the data\n",
        "from sklearn.model_selection import train_test_split\n",
        "X_train, X_test, y_train, y_test = train_test_split(X, y, test_size=0.2, random_state=42)\n"
      ]
    },
    {
      "cell_type": "markdown",
      "metadata": {
        "id": "2q4gW8Tfz9YV"
      },
      "source": [
        "---\n",
        "\n",
        "## Step 5: Build a Neural Network\n",
        "Build a simple neural network with one neuron to predict the house prices.\n",
        "Pick an optimizer and a loss function that suits this problem.\n"
      ]
    },
    {
      "cell_type": "code",
      "execution_count": 24,
      "metadata": {
        "id": "VzVgrw-7z9YX"
      },
      "outputs": [
        {
          "data": {
            "text/html": [
              "<pre style=\"white-space:pre;overflow-x:auto;line-height:normal;font-family:Menlo,'DejaVu Sans Mono',consolas,'Courier New',monospace\"><span style=\"font-weight: bold\">Model: \"sequential_3\"</span>\n",
              "</pre>\n"
            ],
            "text/plain": [
              "\u001b[1mModel: \"sequential_3\"\u001b[0m\n"
            ]
          },
          "metadata": {},
          "output_type": "display_data"
        },
        {
          "data": {
            "text/html": [
              "<pre style=\"white-space:pre;overflow-x:auto;line-height:normal;font-family:Menlo,'DejaVu Sans Mono',consolas,'Courier New',monospace\">┏━━━━━━━━━━━━━━━━━━━━━━━━━━━━━━━━━┳━━━━━━━━━━━━━━━━━━━━━━━━┳━━━━━━━━━━━━━━━┓\n",
              "┃<span style=\"font-weight: bold\"> Layer (type)                    </span>┃<span style=\"font-weight: bold\"> Output Shape           </span>┃<span style=\"font-weight: bold\">       Param # </span>┃\n",
              "┡━━━━━━━━━━━━━━━━━━━━━━━━━━━━━━━━━╇━━━━━━━━━━━━━━━━━━━━━━━━╇━━━━━━━━━━━━━━━┩\n",
              "│ dense_3 (<span style=\"color: #0087ff; text-decoration-color: #0087ff\">Dense</span>)                 │ (<span style=\"color: #00d7ff; text-decoration-color: #00d7ff\">None</span>, <span style=\"color: #00af00; text-decoration-color: #00af00\">1</span>)              │             <span style=\"color: #00af00; text-decoration-color: #00af00\">2</span> │\n",
              "└─────────────────────────────────┴────────────────────────┴───────────────┘\n",
              "</pre>\n"
            ],
            "text/plain": [
              "┏━━━━━━━━━━━━━━━━━━━━━━━━━━━━━━━━━┳━━━━━━━━━━━━━━━━━━━━━━━━┳━━━━━━━━━━━━━━━┓\n",
              "┃\u001b[1m \u001b[0m\u001b[1mLayer (type)                   \u001b[0m\u001b[1m \u001b[0m┃\u001b[1m \u001b[0m\u001b[1mOutput Shape          \u001b[0m\u001b[1m \u001b[0m┃\u001b[1m \u001b[0m\u001b[1m      Param #\u001b[0m\u001b[1m \u001b[0m┃\n",
              "┡━━━━━━━━━━━━━━━━━━━━━━━━━━━━━━━━━╇━━━━━━━━━━━━━━━━━━━━━━━━╇━━━━━━━━━━━━━━━┩\n",
              "│ dense_3 (\u001b[38;5;33mDense\u001b[0m)                 │ (\u001b[38;5;45mNone\u001b[0m, \u001b[38;5;34m1\u001b[0m)              │             \u001b[38;5;34m2\u001b[0m │\n",
              "└─────────────────────────────────┴────────────────────────┴───────────────┘\n"
            ]
          },
          "metadata": {},
          "output_type": "display_data"
        },
        {
          "data": {
            "text/html": [
              "<pre style=\"white-space:pre;overflow-x:auto;line-height:normal;font-family:Menlo,'DejaVu Sans Mono',consolas,'Courier New',monospace\"><span style=\"font-weight: bold\"> Total params: </span><span style=\"color: #00af00; text-decoration-color: #00af00\">2</span> (8.00 B)\n",
              "</pre>\n"
            ],
            "text/plain": [
              "\u001b[1m Total params: \u001b[0m\u001b[38;5;34m2\u001b[0m (8.00 B)\n"
            ]
          },
          "metadata": {},
          "output_type": "display_data"
        },
        {
          "data": {
            "text/html": [
              "<pre style=\"white-space:pre;overflow-x:auto;line-height:normal;font-family:Menlo,'DejaVu Sans Mono',consolas,'Courier New',monospace\"><span style=\"font-weight: bold\"> Trainable params: </span><span style=\"color: #00af00; text-decoration-color: #00af00\">2</span> (8.00 B)\n",
              "</pre>\n"
            ],
            "text/plain": [
              "\u001b[1m Trainable params: \u001b[0m\u001b[38;5;34m2\u001b[0m (8.00 B)\n"
            ]
          },
          "metadata": {},
          "output_type": "display_data"
        },
        {
          "data": {
            "text/html": [
              "<pre style=\"white-space:pre;overflow-x:auto;line-height:normal;font-family:Menlo,'DejaVu Sans Mono',consolas,'Courier New',monospace\"><span style=\"font-weight: bold\"> Non-trainable params: </span><span style=\"color: #00af00; text-decoration-color: #00af00\">0</span> (0.00 B)\n",
              "</pre>\n"
            ],
            "text/plain": [
              "\u001b[1m Non-trainable params: \u001b[0m\u001b[38;5;34m0\u001b[0m (0.00 B)\n"
            ]
          },
          "metadata": {},
          "output_type": "display_data"
        }
      ],
      "source": [
        "# TODO Create the model\n",
        "model = tf.keras.Sequential([\n",
        "    tf.keras.Input(shape=(1,)),  # Input layer, my input is a single number\n",
        "    tf.keras.layers.Dense(units = 1)  # Output layer, one neuron\n",
        "])\n",
        "\n",
        "\n",
        "\n",
        "# TODO Compile the model\n",
        "model.compile(optimizer='sgd', loss='mean_squared_error')\n",
        "#alternatives model mit einem anderen optimizer\n",
        "#model.compile(optimizer='adam', loss='mean_squared_error')\n",
        "\n",
        "\n",
        "# TODO print a Summary of the model\n",
        "model.summary()\n"
      ]
    },
    {
      "cell_type": "markdown",
      "metadata": {
        "id": "007O0RJZz9YX"
      },
      "source": [
        "---\n",
        "\n",
        "## Step 6: Train the Model\n",
        "Train the model using the training data.\n"
      ]
    },
    {
      "cell_type": "code",
      "execution_count": 25,
      "metadata": {
        "id": "QmVYr56Bz9YY"
      },
      "outputs": [
        {
          "name": "stdout",
          "output_type": "stream",
          "text": [
            "Epoch 1/100\n",
            "25/25 - 0s - 6ms/step - loss: 0.1647\n",
            "Epoch 2/100\n"
          ]
        },
        {
          "name": "stdout",
          "output_type": "stream",
          "text": [
            "25/25 - 0s - 3ms/step - loss: 0.1361\n",
            "Epoch 3/100\n",
            "25/25 - 0s - 2ms/step - loss: 0.1152\n",
            "Epoch 4/100\n",
            "25/25 - 0s - 2ms/step - loss: 0.0976\n",
            "Epoch 5/100\n",
            "25/25 - 0s - 2ms/step - loss: 0.0823\n",
            "Epoch 6/100\n",
            "25/25 - 0s - 3ms/step - loss: 0.0696\n",
            "Epoch 7/100\n",
            "25/25 - 0s - 2ms/step - loss: 0.0591\n",
            "Epoch 8/100\n",
            "25/25 - 0s - 2ms/step - loss: 0.0495\n",
            "Epoch 9/100\n",
            "25/25 - 0s - 2ms/step - loss: 0.0422\n",
            "Epoch 10/100\n",
            "25/25 - 0s - 2ms/step - loss: 0.0356\n",
            "Epoch 11/100\n",
            "25/25 - 0s - 2ms/step - loss: 0.0300\n",
            "Epoch 12/100\n",
            "25/25 - 0s - 2ms/step - loss: 0.0255\n",
            "Epoch 13/100\n",
            "25/25 - 0s - 2ms/step - loss: 0.0216\n",
            "Epoch 14/100\n",
            "25/25 - 0s - 2ms/step - loss: 0.0182\n",
            "Epoch 15/100\n",
            "25/25 - 0s - 2ms/step - loss: 0.0154\n",
            "Epoch 16/100\n",
            "25/25 - 0s - 2ms/step - loss: 0.0130\n",
            "Epoch 17/100\n",
            "25/25 - 0s - 2ms/step - loss: 0.0110\n",
            "Epoch 18/100\n",
            "25/25 - 0s - 2ms/step - loss: 0.0093\n",
            "Epoch 19/100\n",
            "25/25 - 0s - 2ms/step - loss: 0.0079\n",
            "Epoch 20/100\n",
            "25/25 - 0s - 2ms/step - loss: 0.0067\n",
            "Epoch 21/100\n",
            "25/25 - 0s - 2ms/step - loss: 0.0056\n",
            "Epoch 22/100\n",
            "25/25 - 0s - 2ms/step - loss: 0.0048\n",
            "Epoch 23/100\n",
            "25/25 - 0s - 2ms/step - loss: 0.0040\n",
            "Epoch 24/100\n",
            "25/25 - 0s - 2ms/step - loss: 0.0034\n",
            "Epoch 25/100\n",
            "25/25 - 0s - 2ms/step - loss: 0.0029\n",
            "Epoch 26/100\n",
            "25/25 - 0s - 2ms/step - loss: 0.0024\n",
            "Epoch 27/100\n",
            "25/25 - 0s - 2ms/step - loss: 0.0021\n",
            "Epoch 28/100\n",
            "25/25 - 0s - 2ms/step - loss: 0.0017\n",
            "Epoch 29/100\n",
            "25/25 - 0s - 2ms/step - loss: 0.0015\n",
            "Epoch 30/100\n",
            "25/25 - 0s - 2ms/step - loss: 0.0012\n",
            "Epoch 31/100\n",
            "25/25 - 0s - 2ms/step - loss: 0.0011\n",
            "Epoch 32/100\n",
            "25/25 - 0s - 3ms/step - loss: 8.8876e-04\n",
            "Epoch 33/100\n",
            "25/25 - 0s - 2ms/step - loss: 7.5112e-04\n",
            "Epoch 34/100\n",
            "25/25 - 0s - 2ms/step - loss: 6.3446e-04\n",
            "Epoch 35/100\n",
            "25/25 - 0s - 2ms/step - loss: 5.3715e-04\n",
            "Epoch 36/100\n",
            "25/25 - 0s - 2ms/step - loss: 4.5411e-04\n",
            "Epoch 37/100\n",
            "25/25 - 0s - 2ms/step - loss: 3.8403e-04\n",
            "Epoch 38/100\n",
            "25/25 - 0s - 2ms/step - loss: 3.2453e-04\n",
            "Epoch 39/100\n",
            "25/25 - 0s - 3ms/step - loss: 2.7450e-04\n",
            "Epoch 40/100\n",
            "25/25 - 0s - 2ms/step - loss: 2.3260e-04\n",
            "Epoch 41/100\n",
            "25/25 - 0s - 2ms/step - loss: 1.9631e-04\n",
            "Epoch 42/100\n",
            "25/25 - 0s - 2ms/step - loss: 1.6606e-04\n",
            "Epoch 43/100\n",
            "25/25 - 0s - 2ms/step - loss: 1.4050e-04\n",
            "Epoch 44/100\n",
            "25/25 - 0s - 2ms/step - loss: 1.1898e-04\n",
            "Epoch 45/100\n",
            "25/25 - 0s - 2ms/step - loss: 1.0023e-04\n",
            "Epoch 46/100\n",
            "25/25 - 0s - 2ms/step - loss: 8.4995e-05\n",
            "Epoch 47/100\n",
            "25/25 - 0s - 2ms/step - loss: 7.1831e-05\n",
            "Epoch 48/100\n",
            "25/25 - 0s - 2ms/step - loss: 6.0789e-05\n",
            "Epoch 49/100\n",
            "25/25 - 0s - 2ms/step - loss: 5.1329e-05\n",
            "Epoch 50/100\n",
            "25/25 - 0s - 2ms/step - loss: 4.3437e-05\n",
            "Epoch 51/100\n",
            "25/25 - 0s - 2ms/step - loss: 3.6682e-05\n",
            "Epoch 52/100\n",
            "25/25 - 0s - 2ms/step - loss: 3.1074e-05\n",
            "Epoch 53/100\n",
            "25/25 - 0s - 2ms/step - loss: 2.6282e-05\n",
            "Epoch 54/100\n",
            "25/25 - 0s - 2ms/step - loss: 2.2180e-05\n",
            "Epoch 55/100\n",
            "25/25 - 0s - 2ms/step - loss: 1.8750e-05\n",
            "Epoch 56/100\n",
            "25/25 - 0s - 2ms/step - loss: 1.5799e-05\n",
            "Epoch 57/100\n",
            "25/25 - 0s - 2ms/step - loss: 1.3419e-05\n",
            "Epoch 58/100\n",
            "25/25 - 0s - 2ms/step - loss: 1.1326e-05\n",
            "Epoch 59/100\n",
            "25/25 - 0s - 2ms/step - loss: 9.5835e-06\n",
            "Epoch 60/100\n",
            "25/25 - 0s - 2ms/step - loss: 8.1015e-06\n",
            "Epoch 61/100\n",
            "25/25 - 0s - 2ms/step - loss: 6.8590e-06\n",
            "Epoch 62/100\n",
            "25/25 - 0s - 2ms/step - loss: 5.7933e-06\n",
            "Epoch 63/100\n",
            "25/25 - 0s - 2ms/step - loss: 4.9032e-06\n",
            "Epoch 64/100\n",
            "25/25 - 0s - 2ms/step - loss: 4.1382e-06\n",
            "Epoch 65/100\n",
            "25/25 - 0s - 2ms/step - loss: 3.4996e-06\n",
            "Epoch 66/100\n",
            "25/25 - 0s - 2ms/step - loss: 2.9553e-06\n",
            "Epoch 67/100\n",
            "25/25 - 0s - 2ms/step - loss: 2.5024e-06\n",
            "Epoch 68/100\n",
            "25/25 - 0s - 2ms/step - loss: 2.1156e-06\n",
            "Epoch 69/100\n",
            "25/25 - 0s - 2ms/step - loss: 1.7935e-06\n",
            "Epoch 70/100\n",
            "25/25 - 0s - 2ms/step - loss: 1.5115e-06\n",
            "Epoch 71/100\n",
            "25/25 - 0s - 2ms/step - loss: 1.2785e-06\n",
            "Epoch 72/100\n",
            "25/25 - 0s - 2ms/step - loss: 1.0824e-06\n",
            "Epoch 73/100\n",
            "25/25 - 0s - 2ms/step - loss: 9.1582e-07\n",
            "Epoch 74/100\n",
            "25/25 - 0s - 2ms/step - loss: 7.7433e-07\n",
            "Epoch 75/100\n",
            "25/25 - 0s - 2ms/step - loss: 6.5394e-07\n",
            "Epoch 76/100\n",
            "25/25 - 0s - 2ms/step - loss: 5.5432e-07\n",
            "Epoch 77/100\n",
            "25/25 - 0s - 2ms/step - loss: 4.6767e-07\n",
            "Epoch 78/100\n",
            "25/25 - 0s - 2ms/step - loss: 3.9561e-07\n",
            "Epoch 79/100\n",
            "25/25 - 0s - 2ms/step - loss: 3.3502e-07\n",
            "Epoch 80/100\n",
            "25/25 - 0s - 2ms/step - loss: 2.8232e-07\n",
            "Epoch 81/100\n",
            "25/25 - 0s - 2ms/step - loss: 2.3896e-07\n",
            "Epoch 82/100\n",
            "25/25 - 0s - 2ms/step - loss: 2.0219e-07\n",
            "Epoch 83/100\n",
            "25/25 - 0s - 2ms/step - loss: 1.7115e-07\n",
            "Epoch 84/100\n",
            "25/25 - 0s - 2ms/step - loss: 1.4503e-07\n",
            "Epoch 85/100\n",
            "25/25 - 0s - 2ms/step - loss: 1.2171e-07\n",
            "Epoch 86/100\n",
            "25/25 - 0s - 2ms/step - loss: 1.0352e-07\n",
            "Epoch 87/100\n",
            "25/25 - 0s - 2ms/step - loss: 8.7437e-08\n",
            "Epoch 88/100\n",
            "25/25 - 0s - 2ms/step - loss: 7.3835e-08\n",
            "Epoch 89/100\n",
            "25/25 - 0s - 2ms/step - loss: 6.2209e-08\n",
            "Epoch 90/100\n",
            "25/25 - 0s - 2ms/step - loss: 5.2727e-08\n",
            "Epoch 91/100\n",
            "25/25 - 0s - 2ms/step - loss: 4.4719e-08\n",
            "Epoch 92/100\n",
            "25/25 - 0s - 2ms/step - loss: 3.7729e-08\n",
            "Epoch 93/100\n",
            "25/25 - 0s - 2ms/step - loss: 3.1986e-08\n",
            "Epoch 94/100\n",
            "25/25 - 0s - 2ms/step - loss: 2.6994e-08\n",
            "Epoch 95/100\n",
            "25/25 - 0s - 2ms/step - loss: 2.2837e-08\n",
            "Epoch 96/100\n",
            "25/25 - 0s - 2ms/step - loss: 1.9313e-08\n",
            "Epoch 97/100\n",
            "25/25 - 0s - 2ms/step - loss: 1.6321e-08\n",
            "Epoch 98/100\n",
            "25/25 - 0s - 2ms/step - loss: 1.3815e-08\n",
            "Epoch 99/100\n",
            "25/25 - 0s - 2ms/step - loss: 1.1696e-08\n",
            "Epoch 100/100\n",
            "25/25 - 0s - 2ms/step - loss: 9.8707e-09\n"
          ]
        },
        {
          "data": {
            "text/plain": [
              "<keras.src.callbacks.history.History at 0x70f6c80df9b0>"
            ]
          },
          "execution_count": 25,
          "metadata": {},
          "output_type": "execute_result"
        }
      ],
      "source": [
        "# TODO Train the model\n",
        "model.fit(X_train, y_train, epochs=100, verbose=2) #verbose=0 for no output 1:progress bar 2:one line per epoch"
      ]
    },
    {
      "cell_type": "markdown",
      "metadata": {
        "id": "kzLmnzDZz9YY"
      },
      "source": [
        "---\n",
        "\n",
        "## Step 7: Evaluate the Model\n",
        "Evaluate the model using the test data and plot its prediction.\n"
      ]
    },
    {
      "cell_type": "code",
      "execution_count": 26,
      "metadata": {
        "id": "9FAH4xFAz9YZ"
      },
      "outputs": [
        {
          "name": "stdout",
          "output_type": "stream",
          "text": [
            "7/7 - 0s - 11ms/step - loss: 9.2293e-09\n",
            "\u001b[1m7/7\u001b[0m \u001b[32m━━━━━━━━━━━━━━━━━━━━\u001b[0m\u001b[37m\u001b[0m \u001b[1m0s\u001b[0m 5ms/step \n"
          ]
        },
        {
          "data": {
            "text/plain": [
              "<matplotlib.legend.Legend at 0x70f6ca3abd10>"
            ]
          },
          "execution_count": 26,
          "metadata": {},
          "output_type": "execute_result"
        },
        {
          "data": {
            "image/png": "[encoded data removed]",
            "text/plain": [
              "<Figure size 640x480 with 1 Axes>"
            ]
          },
          "metadata": {},
          "output_type": "display_data"
        }
      ],
      "source": [
        "# TODO Evaluate the model using the model.evaluate() function\n",
        "model.evaluate(X_test, y_test, verbose=2)\n",
        "\n",
        "\n",
        "# TODO Make predictions\n",
        "predictions = model.predict(X_test)\n",
        "\n",
        "\n",
        "# TODO Plot real vs predicted prices (hint: you can use the plotting code from above as a start)\n",
        "plt.scatter(X_test, y_test, label='Real Prices')\n",
        "plt.scatter(X_test, predictions, label='Predicted Prices')\n",
        "plt.xlabel('Number of Bedrooms')\n",
        "plt.ylabel('Price')\n",
        "plt.title('Real vs Predicted Prices')\n",
        "plt.legend()\n",
        "\n"
      ]
    },
    {
      "cell_type": "markdown",
      "metadata": {
        "id": "B6j-nmk0z9YZ"
      },
      "source": [
        "# Step 8: Optional\n",
        "Go back to the start and experiment what happens if instead of representing a price of a house costing onehundred thousand by a 1 we use the raw number 100,000 instead.\n",
        "\n",
        "Try to explain what happened and why."
      ]
    },
    {
      "cell_type": "markdown",
      "metadata": {
        "id": "VJKBlPBXz9Ya"
      },
      "source": [
        "- the target value 'price' becomes very large compared to the input feature 'bedrooms'--> this can confuse the neural network\n",
        "- thats why we normalize the data"
      ]
    },
    {
      "cell_type": "markdown",
      "metadata": {},
      "source": []
    }
  ],
  "metadata": {
    "colab": {
      "provenance": []
    },
    "kernelspec": {
      "display_name": "Python 3 (ipykernel)",
      "language": "python",
      "name": "python3"
    },
    "orig_nbformat": 4
  },
  "nbformat": 4,
  "nbformat_minor": 0
}

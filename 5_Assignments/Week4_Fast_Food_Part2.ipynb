{
  "cells": [
    {
      "cell_type": "markdown",
      "metadata": {
        "id": "Bte1ngygIzYD"
      },
      "source": [
        "# Assignment CNNs - Part 2: Transfer Learning Strategies with Fast Food Classification\n"
      ]
    },
    {
      "cell_type": "markdown",
      "metadata": {
        "id": "lq_Hc0aIW4-p"
      },
      "source": [
        "In this notebook, we will:\n",
        "1. Import and prepare the Fast Food Classification dataset\n",
        "2. Implement three different transfer learning strategies:\n",
        "   - Feature extraction (frozen pre-trained model)\n",
        "   - Fine-tuning last few layers\n",
        "   - Full fine-tuning\n",
        "3. Get experience on how sample size affects the strategy's performance\n",
        "4. Get experience of the impact of choosing the right/wrong learning rate\n",
        "5. Get experience with the different transfer learning strategies\n",
        "\n",
        "## 0. Introduction\n",
        "\n",
        "Transfer learning is a powerful technique that allows us to leverage pre-trained models for new tasks. However, different transfer learning strategies are suitable for different scenarios, particularly depending on:\n",
        "- Sample size of the target dataset\n",
        "- Similarity between source and target tasks\n",
        "- Available computational resources\n",
        "\n",
        "In this exercise, we'll explore different transfer learning strategies using the \"Fast Food Classification Dataset - V2\" from Kaggle."
      ]
    },
    {
      "cell_type": "markdown",
      "metadata": {
        "id": "tVcGvEOOf5i-"
      },
      "source": [
        "## 1. Data Import and Cleaning\n",
        "\n",
        "1. Download the [\"Fast Food Classification Dataset - V2\"](https://www.kaggle.com/datasets/utkarshsaxenadn/fast-food-classification-dataset/data) from Kaggle.\n",
        "\n",
        "2. Unzip and ensure that the dataset in Colab is structured as follows:\n",
        "\n",
        "```\n",
        "|\n",
        "|-- Fast Food Classification V2\n",
        "|   |-- TFRecords\n",
        "|   |-- Test\n",
        "|   |-- Train\n",
        "|   `-- Valid\n",
        "|-- sample_data\n",
        "`-- archive.zip\n",
        "```\n",
        "\n",
        "`Fast Food Classification V2` and `archive.zip` should be on the same level as the already existing `sample_data` directory from Colab. You can ignore the `TFRecords` subdirectory in the following tasks."
      ]
    },
    {
      "cell_type": "code",
      "execution_count": 1,
      "metadata": {
        "id": "n5811abzgIiK"
      },
      "outputs": [],
      "source": [
        "#!/bin/bash\n",
        "#!curl -L -o archive.zip https://www.kaggle.com/api/v1/datasets/download/utkarshsaxenadn/fast-food-classification-dataset"
      ]
    },
    {
      "cell_type": "code",
      "execution_count": 2,
      "metadata": {
        "id": "SytLYfaw6GyZ"
      },
      "outputs": [],
      "source": [
        "#!unzip -q archive.zip"
      ]
    },
    {
      "cell_type": "markdown",
      "metadata": {
        "id": "53kVJ_3nW4-v"
      },
      "source": [
        "3. Apply the provided `delete_invalid_images` function to check and remove any corrupted or invalid images in each of the three dataset directories."
      ]
    },
    {
      "cell_type": "code",
      "execution_count": 3,
      "metadata": {
        "id": "SRkFVeV2W4-w"
      },
      "outputs": [
        {
          "name": "stdout",
          "output_type": "stream",
          "text": [
            "Checking directory: ./datasets/fast_food/Fast Food Classification V2/Train\n",
            "Checking directory: ./datasets/fast_food/Fast Food Classification V2/Valid\n",
            "Checking directory: ./datasets/fast_food/Fast Food Classification V2/Test\n",
            "Invalid and unsupported image cleanup completed.\n"
          ]
        }
      ],
      "source": [
        "import os\n",
        "from PIL import Image\n",
        "\n",
        "TRAINING_DIR = \"./datasets/fast_food/Fast Food Classification V2/Train\"\n",
        "VALIDATION_DIR = \"./datasets/fast_food/Fast Food Classification V2/Valid\"\n",
        "TEST_DIR = \"./datasets/fast_food/Fast Food Classification V2/Test\"\n",
        "\n",
        "# Define the paths to the directories\n",
        "directories = [\n",
        "    TRAINING_DIR,\n",
        "    VALIDATION_DIR,\n",
        "    TEST_DIR]\n",
        "\n",
        "# Define supported image file extensions\n",
        "supported_extensions = {'.jpg', '.jpeg', '.png', '.gif', '.bmp'}\n",
        "\n",
        "def delete_invalid_images(directory):\n",
        "    \"\"\"Goes through a directory and deletes any invalid or unsupported images.\"\"\"\n",
        "    print(f\"Checking directory: {directory}\")\n",
        "    check_directory = os.path.exists(directory)\n",
        "    if not check_directory:\n",
        "        print(f\"Directory does not exist: {directory}\")\n",
        "        return\n",
        "    for root, _, files in os.walk(directory):\n",
        "        for file in files:\n",
        "            file_path = os.path.join(root, file)\n",
        "            # Check if the file has a supported extension\n",
        "            if not any(file.lower().endswith(ext) for ext in supported_extensions):\n",
        "                print(f\"Deleting unsupported file: {file_path}\")\n",
        "                os.remove(file_path)\n",
        "                continue\n",
        "\n",
        "            try:\n",
        "                with Image.open(file_path) as img:\n",
        "                    img.load()  # Ensure the image content can be read\n",
        "                    if img.format not in [\"JPEG\", \"PNG\", \"GIF\", \"BMP\"]:\n",
        "                        raise IOError(\"Unsupported image format\")\n",
        "            except (IOError, SyntaxError, AttributeError) as e:\n",
        "                print(f\"Deleting invalid or corrupted image: {file_path}\")\n",
        "                os.remove(file_path)\n",
        "\n",
        "# Run the function for each directory\n",
        "for dir_path in directories:\n",
        "    delete_invalid_images(dir_path)\n",
        "\n",
        "print(\"Invalid and unsupported image cleanup completed.\")"
      ]
    },
    {
      "cell_type": "markdown",
      "metadata": {
        "id": "PBvTBaGh6SoJ"
      },
      "source": [
        "4. To reduce training time, only three classes are considered for the following training."
      ]
    },
    {
      "cell_type": "code",
      "execution_count": null,
      "metadata": {
        "id": "lRKkSOw16SEc"
      },
      "outputs": [
        {
          "name": "stdout",
          "output_type": "stream",
          "text": [
            "Folder cleanup completed.\n"
          ]
        }
      ],
      "source": [
        "# prompt: In each of the Train, Test, and Valid folder in the folder \"Fast Food Classification V2\" that were just unzipped, only keep the folders Taquito, Crispy Chicken, and Donut. Remove the others.\n",
        "\n",
        "import os\n",
        "import shutil\n",
        "\n",
        "# Define the root directory of the dataset\n",
        "dataset_root = \"./datasets/fast_food/Fast Food Classification V2\"\n",
        "\n",
        "# Define the subdirectories (Train, Test, Valid)\n",
        "subdirectories = [\"Train\", \"Test\", \"Valid\"]\n",
        "\n",
        "# Define the classes to keep\n",
        "classes_to_keep = [\"Pizza\", \"Hot Dog\", \"Burger\"]\n",
        "\n",
        "# Loop through each subdirectory\n",
        "for subdir in subdirectories:\n",
        "  subdir_path = os.path.join(dataset_root, subdir)\n",
        "\n",
        "  # Loop through each folder (class) in the subdirectory\n",
        "  for class_folder in os.listdir(subdir_path):\n",
        "    class_folder_path = os.path.join(subdir_path, class_folder)\n",
        "\n",
        "    # Check if it's a directory and if it's not one of the classes to keep\n",
        "    if os.path.isdir(class_folder_path) and class_folder not in classes_to_keep:\n",
        "      print(f\"Removing folder: {class_folder_path}\")\n",
        "      shutil.rmtree(class_folder_path)\n",
        "\n",
        "print(\"Folder cleanup completed.\")"
      ]
    },
    {
      "cell_type": "markdown",
      "metadata": {
        "id": "pmyVO2AmW4-x"
      },
      "source": [
        "### Creation of Different Training Dataset Sizes\n",
        "\n",
        "   - Small: 50 images per class\n",
        "   - Medium: 200 images per class  \n",
        "   - Full: All available training images\n",
        "\n",
        "To reduce training time, only three classes are considered in the training.\n",
        "\n",
        "The validation and test sets will remain constant to ensure fair comparison."
      ]
    },
    {
      "cell_type": "code",
      "execution_count": 5,
      "metadata": {
        "id": "LUXtbLyXW4-x"
      },
      "outputs": [],
      "source": [
        "import os\n",
        "import numpy as np\n",
        "import shutil\n",
        "from pathlib import Path\n",
        "\n",
        "# Constants\n",
        "SMALL_SAMPLES = 50  # images per class\n",
        "MEDIUM_SAMPLES = 200 # images per class\n",
        "\n",
        "def create_sample_dataset(source_dir, target_dir, samples_per_class):\n",
        "    \"\"\"Creates a smaller dataset by randomly sampling from source directory\"\"\"\n",
        "    if os.path.exists(target_dir):\n",
        "        shutil.rmtree(target_dir)\n",
        "\n",
        "    # Create target directory\n",
        "    os.makedirs(target_dir)\n",
        "\n",
        "    # For each class directory\n",
        "    for class_dir in os.listdir(source_dir):\n",
        "        source_class_path = os.path.join(source_dir, class_dir)\n",
        "        target_class_path = os.path.join(target_dir, class_dir)\n",
        "\n",
        "        if os.path.isdir(source_class_path):\n",
        "            # Create class directory in target\n",
        "            os.makedirs(target_class_path)\n",
        "\n",
        "            # Get list of all images\n",
        "            images = os.listdir(source_class_path)\n",
        "\n",
        "            # Randomly sample specified number of images\n",
        "            selected_images = np.random.choice(\n",
        "                images,\n",
        "                size=min(samples_per_class, len(images)),\n",
        "                replace=False\n",
        "            )\n",
        "\n",
        "            # Copy selected images\n",
        "            for img in selected_images:\n",
        "                shutil.copy2(\n",
        "                    os.path.join(source_class_path, img),\n",
        "                    os.path.join(target_class_path, img)\n",
        "                )\n",
        "\n",
        "# Create sampled datasets\n",
        "create_sample_dataset(\"./datasets/fast_food/Fast Food Classification V2/Train\", \"./datasets/fast_food/Train_Small\", SMALL_SAMPLES)\n",
        "create_sample_dataset(\"./datasets/fast_food/Fast Food Classification V2/Train\", \"./datasets/fast_food/Train_Medium\", MEDIUM_SAMPLES)"
      ]
    },
    {
      "cell_type": "markdown",
      "metadata": {
        "id": "D0xznoUZW4-y"
      },
      "source": [
        "## 2. Data Preprocessing\n",
        "\n",
        "1. Load the training, validation and test datasets using the `image_dataset_from_directory` function. Specifically, set appropriate values for `label_mode`, `batch_size`, `image_size` and `shuffle`. Each dataset should get a fixed `seed` of `42`.\n",
        "\n",
        "Checkout the documentation for details:\n",
        "https://www.tensorflow.org/api_docs/python/tf/keras/preprocessing/image_dataset_from_directory\n",
        "\n"
      ]
    },
    {
      "cell_type": "code",
      "execution_count": 6,
      "metadata": {
        "id": "h6dKFV2IW4-z"
      },
      "outputs": [
        {
          "name": "stderr",
          "output_type": "stream",
          "text": [
            "2025-05-19 19:01:15.216394: I tensorflow/core/util/port.cc:153] oneDNN custom operations are on. You may see slightly different numerical results due to floating-point round-off errors from different computation orders. To turn them off, set the environment variable `TF_ENABLE_ONEDNN_OPTS=0`.\n",
            "2025-05-19 19:01:15.235738: I external/local_xla/xla/tsl/cuda/cudart_stub.cc:32] Could not find cuda drivers on your machine, GPU will not be used.\n",
            "2025-05-19 19:01:15.421778: I external/local_xla/xla/tsl/cuda/cudart_stub.cc:32] Could not find cuda drivers on your machine, GPU will not be used.\n",
            "2025-05-19 19:01:15.526098: E external/local_xla/xla/stream_executor/cuda/cuda_fft.cc:467] Unable to register cuFFT factory: Attempting to register factory for plugin cuFFT when one has already been registered\n",
            "WARNING: All log messages before absl::InitializeLog() is called are written to STDERR\n",
            "E0000 00:00:1747681275.705461   46625 cuda_dnn.cc:8579] Unable to register cuDNN factory: Attempting to register factory for plugin cuDNN when one has already been registered\n",
            "E0000 00:00:1747681275.787349   46625 cuda_blas.cc:1407] Unable to register cuBLAS factory: Attempting to register factory for plugin cuBLAS when one has already been registered\n",
            "W0000 00:00:1747681276.363659   46625 computation_placer.cc:177] computation placer already registered. Please check linkage and avoid linking the same target more than once.\n",
            "W0000 00:00:1747681276.363684   46625 computation_placer.cc:177] computation placer already registered. Please check linkage and avoid linking the same target more than once.\n",
            "W0000 00:00:1747681276.363686   46625 computation_placer.cc:177] computation placer already registered. Please check linkage and avoid linking the same target more than once.\n",
            "W0000 00:00:1747681276.363688   46625 computation_placer.cc:177] computation placer already registered. Please check linkage and avoid linking the same target more than once.\n",
            "2025-05-19 19:01:16.410635: I tensorflow/core/platform/cpu_feature_guard.cc:210] This TensorFlow binary is optimized to use available CPU instructions in performance-critical operations.\n",
            "To enable the following instructions: AVX2 AVX512F AVX512_VNNI FMA, in other operations, rebuild TensorFlow with the appropriate compiler flags.\n"
          ]
        },
        {
          "name": "stdout",
          "output_type": "stream",
          "text": [
            "Found 150 files belonging to 3 classes.\n",
            "Found 600 files belonging to 3 classes.\n",
            "Found 4499 files belonging to 3 classes.\n"
          ]
        },
        {
          "name": "stderr",
          "output_type": "stream",
          "text": [
            "2025-05-19 19:01:24.351095: E external/local_xla/xla/stream_executor/cuda/cuda_platform.cc:51] failed call to cuInit: INTERNAL: CUDA error: Failed call to cuInit: UNKNOWN ERROR (303)\n"
          ]
        },
        {
          "name": "stdout",
          "output_type": "stream",
          "text": [
            "Found 900 files belonging to 3 classes.\n",
            "Found 600 files belonging to 3 classes.\n"
          ]
        }
      ],
      "source": [
        "import tensorflow as tf\n",
        "\n",
        "# Constants\n",
        "LABEL_MODE = 'int' # 'int' for integer labels, 'categorical' for one-hot encoded labels\n",
        "SEED = None # TODO: Choose a value\n",
        "IMAGE_HEIGHT = 75 #that was the smallest size the model let me choose --> fragen!!\n",
        "IMAGE_WIDTH = 75\n",
        "#Tip: Models that will be used with this data work usually best when the input images are of the same size as in the original training of the model.\n",
        "BATCH_SIZE = 32\n",
        "\n",
        "# Load the small dataset\n",
        "train_data_small = tf.keras.preprocessing.image_dataset_from_directory(\n",
        "    \"./datasets/fast_food/Train_Small\",\n",
        "    label_mode=LABEL_MODE,\n",
        "    seed=SEED,  # Any fixed value works for reproducibility\n",
        "    image_size=(IMAGE_HEIGHT, IMAGE_WIDTH),\n",
        "    batch_size=BATCH_SIZE,\n",
        "    shuffle=None #TODO: Set appropriate value\n",
        ")\n",
        "\n",
        "# Load the medium dataset\n",
        "train_data_medium = tf.keras.preprocessing.image_dataset_from_directory(\n",
        "    \"./datasets/fast_food/Train_Medium\",\n",
        "    label_mode=LABEL_MODE,\n",
        "    seed=SEED,  # Any fixed value works for reproducibility\n",
        "    image_size=(IMAGE_HEIGHT, IMAGE_WIDTH),\n",
        "    batch_size=BATCH_SIZE,\n",
        "    shuffle=None #TODO: Set appropriate value\n",
        ")\n",
        "\n",
        "# Load the full dataset\n",
        "train_data_full = tf.keras.preprocessing.image_dataset_from_directory(\n",
        "    \"./datasets/fast_food/Fast Food Classification V2/Train\",\n",
        "    label_mode=LABEL_MODE,\n",
        "    seed=SEED,  # Any fixed value works for reproducibility\n",
        "    image_size=(IMAGE_HEIGHT, IMAGE_WIDTH),\n",
        "    batch_size=BATCH_SIZE,\n",
        "    shuffle=None #TODO: Set appropriate value\n",
        ")\n",
        "\n",
        "# Load validation dataset\n",
        "validation_data = tf.keras.preprocessing.image_dataset_from_directory(\n",
        "    \"./datasets/fast_food/Fast Food Classification V2/Valid\",\n",
        "    label_mode='int',\n",
        "    image_size=(IMAGE_HEIGHT, IMAGE_WIDTH),\n",
        "    batch_size=BATCH_SIZE,\n",
        "    shuffle=None #TODO: Set appropriate value\n",
        ")\n",
        "\n",
        "# Load the test dataset\n",
        "test_data = tf.keras.preprocessing.image_dataset_from_directory(\n",
        "    \"./datasets/fast_food/Fast Food Classification V2/Test\",\n",
        "    label_mode='int',\n",
        "    image_size=(IMAGE_HEIGHT, IMAGE_WIDTH),\n",
        "    batch_size=BATCH_SIZE,\n",
        "    shuffle=None #TODO: Set appropriate value\n",
        ")\n"
      ]
    },
    {
      "cell_type": "markdown",
      "metadata": {
        "id": "2rqJW7HRmKOa"
      },
      "source": [
        "2. Add normalization and data augmentation as needed to the datasets.  \n",
        "Which normalization is best? (Tip: Check how the original model was trained.)  \n",
        "Which data augmentation makes sense?"
      ]
    },
    {
      "cell_type": "code",
      "execution_count": 7,
      "metadata": {
        "id": "dR1IpWcvmKOa"
      },
      "outputs": [],
      "source": [
        "# Training-specific preprocessing\n",
        "#the model was trained with images scaled to [-1, 1]\n",
        "train_preprocessing = tf.keras.Sequential([\n",
        "    tf.keras.layers.Rescaling(1./127.5, offset=-1),  # Rescale to [-1, 1]\n",
        "#TODO: Add layers as needed\n",
        "])\n",
        "\n",
        "# Validation-specific preprocessing\n",
        "validation_preprocessing = tf.keras.Sequential([\n",
        "    tf.keras.layers.Rescaling(1./127.5, offset=-1),  # Rescale to [-1, 1]\n",
        "#TODO: Add layers as needed\n",
        "])\n",
        "\n",
        "\n",
        "# apply preprocessing to the datasets using wrapper functions, as the direct mapping did not work\n",
        "# Wrapper-Funktionen für das Mapping\n",
        "def preprocess_train(image, label):\n",
        "    image = train_preprocessing(image, training=True)\n",
        "    return image, label\n",
        "\n",
        "def preprocess_val(image, label):\n",
        "    image = validation_preprocessing(image, training=False)\n",
        "    return image, label\n",
        "\n",
        "#Apply preprocessing to the datasets\n",
        "#train_data_small = train_data_small.map(train_preprocessing)# direct mapping did not work\n",
        "train_data_small = train_data_small.map(preprocess_train)\n",
        "train_data_medium = train_data_medium.map(preprocess_train)\n",
        "train_data_full = train_data_full.map(preprocess_train)\n",
        "validation_data = validation_data.map(preprocess_val)\n",
        "test_data = test_data.map(preprocess_val)\n",
        "# TODO: Apply preprocessing to the other datasets"
      ]
    },
    {
      "cell_type": "markdown",
      "metadata": {
        "id": "-dNVt06Gz828"
      },
      "source": [
        "## 3. Model Definitions"
      ]
    },
    {
      "cell_type": "markdown",
      "metadata": {
        "id": "HkEKsc7CW4-0"
      },
      "source": [
        "Imports and Constants\n"
      ]
    },
    {
      "cell_type": "code",
      "execution_count": 8,
      "metadata": {
        "id": "fpJXUjNZW4-0"
      },
      "outputs": [],
      "source": [
        "import tensorflow as tf\n",
        "\n",
        "CLASSES = 3 # TODO: Set the number of classes\n",
        "IMAGE_HEIGHT = 75 # TODO: Choose an appropriate image height\n",
        "IMAGE_WIDTH = 75 # TODO: Choose an appropriate image width\n",
        "\n"
      ]
    },
    {
      "cell_type": "markdown",
      "metadata": {
        "id": "UEFeJj34W4-0"
      },
      "source": [
        "### Feature Extraction\n",
        "\n",
        "1. Create a feature extraction model using the Inception V3 architecture.\n",
        "2. Freeze all layers of the base model.\n",
        "3. Add a new classification head with global average pooling, dropout, and a dense layer.\n"
      ]
    },
    {
      "cell_type": "code",
      "execution_count": 9,
      "metadata": {
        "id": "BYsDXojA0Wm3"
      },
      "outputs": [
        {
          "data": {
            "text/html": [
              "<pre style=\"white-space:pre;overflow-x:auto;line-height:normal;font-family:Menlo,'DejaVu Sans Mono',consolas,'Courier New',monospace\"><span style=\"font-weight: bold\">Model: \"sequential_2\"</span>\n",
              "</pre>\n"
            ],
            "text/plain": [
              "\u001b[1mModel: \"sequential_2\"\u001b[0m\n"
            ]
          },
          "metadata": {},
          "output_type": "display_data"
        },
        {
          "data": {
            "text/html": [
              "<pre style=\"white-space:pre;overflow-x:auto;line-height:normal;font-family:Menlo,'DejaVu Sans Mono',consolas,'Courier New',monospace\">┏━━━━━━━━━━━━━━━━━━━━━━━━━━━━━━━━━┳━━━━━━━━━━━━━━━━━━━━━━━━┳━━━━━━━━━━━━━━━┓\n",
              "┃<span style=\"font-weight: bold\"> Layer (type)                    </span>┃<span style=\"font-weight: bold\"> Output Shape           </span>┃<span style=\"font-weight: bold\">       Param # </span>┃\n",
              "┡━━━━━━━━━━━━━━━━━━━━━━━━━━━━━━━━━╇━━━━━━━━━━━━━━━━━━━━━━━━╇━━━━━━━━━━━━━━━┩\n",
              "│ inception_v3 (<span style=\"color: #0087ff; text-decoration-color: #0087ff\">Functional</span>)       │ (<span style=\"color: #00d7ff; text-decoration-color: #00d7ff\">None</span>, <span style=\"color: #00af00; text-decoration-color: #00af00\">1</span>, <span style=\"color: #00af00; text-decoration-color: #00af00\">1</span>, <span style=\"color: #00af00; text-decoration-color: #00af00\">2048</span>)     │    <span style=\"color: #00af00; text-decoration-color: #00af00\">21,802,784</span> │\n",
              "├─────────────────────────────────┼────────────────────────┼───────────────┤\n",
              "│ global_average_pooling2d        │ (<span style=\"color: #00d7ff; text-decoration-color: #00d7ff\">None</span>, <span style=\"color: #00af00; text-decoration-color: #00af00\">2048</span>)           │             <span style=\"color: #00af00; text-decoration-color: #00af00\">0</span> │\n",
              "│ (<span style=\"color: #0087ff; text-decoration-color: #0087ff\">GlobalAveragePooling2D</span>)        │                        │               │\n",
              "├─────────────────────────────────┼────────────────────────┼───────────────┤\n",
              "│ dropout (<span style=\"color: #0087ff; text-decoration-color: #0087ff\">Dropout</span>)               │ (<span style=\"color: #00d7ff; text-decoration-color: #00d7ff\">None</span>, <span style=\"color: #00af00; text-decoration-color: #00af00\">2048</span>)           │             <span style=\"color: #00af00; text-decoration-color: #00af00\">0</span> │\n",
              "├─────────────────────────────────┼────────────────────────┼───────────────┤\n",
              "│ dense (<span style=\"color: #0087ff; text-decoration-color: #0087ff\">Dense</span>)                   │ (<span style=\"color: #00d7ff; text-decoration-color: #00d7ff\">None</span>, <span style=\"color: #00af00; text-decoration-color: #00af00\">3</span>)              │         <span style=\"color: #00af00; text-decoration-color: #00af00\">6,147</span> │\n",
              "└─────────────────────────────────┴────────────────────────┴───────────────┘\n",
              "</pre>\n"
            ],
            "text/plain": [
              "┏━━━━━━━━━━━━━━━━━━━━━━━━━━━━━━━━━┳━━━━━━━━━━━━━━━━━━━━━━━━┳━━━━━━━━━━━━━━━┓\n",
              "┃\u001b[1m \u001b[0m\u001b[1mLayer (type)                   \u001b[0m\u001b[1m \u001b[0m┃\u001b[1m \u001b[0m\u001b[1mOutput Shape          \u001b[0m\u001b[1m \u001b[0m┃\u001b[1m \u001b[0m\u001b[1m      Param #\u001b[0m\u001b[1m \u001b[0m┃\n",
              "┡━━━━━━━━━━━━━━━━━━━━━━━━━━━━━━━━━╇━━━━━━━━━━━━━━━━━━━━━━━━╇━━━━━━━━━━━━━━━┩\n",
              "│ inception_v3 (\u001b[38;5;33mFunctional\u001b[0m)       │ (\u001b[38;5;45mNone\u001b[0m, \u001b[38;5;34m1\u001b[0m, \u001b[38;5;34m1\u001b[0m, \u001b[38;5;34m2048\u001b[0m)     │    \u001b[38;5;34m21,802,784\u001b[0m │\n",
              "├─────────────────────────────────┼────────────────────────┼───────────────┤\n",
              "│ global_average_pooling2d        │ (\u001b[38;5;45mNone\u001b[0m, \u001b[38;5;34m2048\u001b[0m)           │             \u001b[38;5;34m0\u001b[0m │\n",
              "│ (\u001b[38;5;33mGlobalAveragePooling2D\u001b[0m)        │                        │               │\n",
              "├─────────────────────────────────┼────────────────────────┼───────────────┤\n",
              "│ dropout (\u001b[38;5;33mDropout\u001b[0m)               │ (\u001b[38;5;45mNone\u001b[0m, \u001b[38;5;34m2048\u001b[0m)           │             \u001b[38;5;34m0\u001b[0m │\n",
              "├─────────────────────────────────┼────────────────────────┼───────────────┤\n",
              "│ dense (\u001b[38;5;33mDense\u001b[0m)                   │ (\u001b[38;5;45mNone\u001b[0m, \u001b[38;5;34m3\u001b[0m)              │         \u001b[38;5;34m6,147\u001b[0m │\n",
              "└─────────────────────────────────┴────────────────────────┴───────────────┘\n"
            ]
          },
          "metadata": {},
          "output_type": "display_data"
        },
        {
          "data": {
            "text/html": [
              "<pre style=\"white-space:pre;overflow-x:auto;line-height:normal;font-family:Menlo,'DejaVu Sans Mono',consolas,'Courier New',monospace\"><span style=\"font-weight: bold\"> Total params: </span><span style=\"color: #00af00; text-decoration-color: #00af00\">21,808,931</span> (83.19 MB)\n",
              "</pre>\n"
            ],
            "text/plain": [
              "\u001b[1m Total params: \u001b[0m\u001b[38;5;34m21,808,931\u001b[0m (83.19 MB)\n"
            ]
          },
          "metadata": {},
          "output_type": "display_data"
        },
        {
          "data": {
            "text/html": [
              "<pre style=\"white-space:pre;overflow-x:auto;line-height:normal;font-family:Menlo,'DejaVu Sans Mono',consolas,'Courier New',monospace\"><span style=\"font-weight: bold\"> Trainable params: </span><span style=\"color: #00af00; text-decoration-color: #00af00\">6,147</span> (24.01 KB)\n",
              "</pre>\n"
            ],
            "text/plain": [
              "\u001b[1m Trainable params: \u001b[0m\u001b[38;5;34m6,147\u001b[0m (24.01 KB)\n"
            ]
          },
          "metadata": {},
          "output_type": "display_data"
        },
        {
          "data": {
            "text/html": [
              "<pre style=\"white-space:pre;overflow-x:auto;line-height:normal;font-family:Menlo,'DejaVu Sans Mono',consolas,'Courier New',monospace\"><span style=\"font-weight: bold\"> Non-trainable params: </span><span style=\"color: #00af00; text-decoration-color: #00af00\">21,802,784</span> (83.17 MB)\n",
              "</pre>\n"
            ],
            "text/plain": [
              "\u001b[1m Non-trainable params: \u001b[0m\u001b[38;5;34m21,802,784\u001b[0m (83.17 MB)\n"
            ]
          },
          "metadata": {},
          "output_type": "display_data"
        }
      ],
      "source": [
        "def create_feature_extraction_model():\n",
        "    \"\"\"Creates model with frozen base layers (feature extraction)\"\"\"\n",
        "\n",
        "    # Load pre-trained InceptionV3 with correct input size\n",
        "    base_model = tf.keras.applications.InceptionV3(\n",
        "        weights='imagenet',\n",
        "        include_top=False,\n",
        "        input_shape=(IMAGE_HEIGHT, IMAGE_WIDTH, 3)\n",
        "    )\n",
        "\n",
        "    # Freeze all layers for feature extraction\n",
        "    base_model.trainable = False\n",
        "\n",
        "    # Simple classification head\n",
        "    # - GlobalAveragePooling2D reduces spatial dimensions\n",
        "    # - Final Dense layer maps to class probabilities\n",
        "    model = tf.keras.Sequential([\n",
        "        base_model,\n",
        "        tf.keras.layers.GlobalAveragePooling2D(),\n",
        "        tf.keras.layers.Dropout(0.2),\n",
        "        tf.keras.layers.Dense(CLASSES, activation='softmax')\n",
        "    ])\n",
        "    \n",
        "    #print(model.summary()) hatte ich eingefügt\n",
        "\n",
        "    return model\n",
        "\n",
        "#print model summary\n",
        "model = create_feature_extraction_model()\n",
        "model.summary()"
      ]
    },
    {
      "cell_type": "markdown",
      "metadata": {
        "id": "KUK36M-NW4-1"
      },
      "source": [
        "### Fine-Tuning Last Few Layers\n",
        "\n",
        "1. Create a fine-tuning model using the Inception V3 architecture.\n",
        "2. Unfreeze the last few layers of the base model.\n",
        "3. Add a new classification head with global average pooling, dropout, and a dense layer.\n"
      ]
    },
    {
      "cell_type": "code",
      "execution_count": 10,
      "metadata": {
        "id": "_khIIV-zW4-1"
      },
      "outputs": [],
      "source": [
        "def create_fine_tuning_model():\n",
        "    \"\"\"Creates model with last few layers unfrozen for fine-tuning\"\"\"\n",
        "\n",
        "    # Load pre-trained InceptionV3 with correct input size\n",
        "    base_model = tf.keras.applications.InceptionV3(\n",
        "        weights='imagenet',\n",
        "        include_top=False,\n",
        "        input_shape=(IMAGE_HEIGHT, IMAGE_WIDTH, 3)\n",
        "    )\n",
        "\n",
        "    # Freeze all layers except last few blocks\n",
        "    base_model.trainable = True\n",
        "    for layer in base_model.layers[:-20]:  # Unfreeze last 20 layers\n",
        "        layer.trainable = False\n",
        "\n",
        "    model = tf.keras.Sequential([\n",
        "        base_model,\n",
        "        tf.keras.layers.GlobalAveragePooling2D(),\n",
        "        tf.keras.layers.Dropout(0.2),\n",
        "        tf.keras.layers.Dense(CLASSES, activation='softmax')\n",
        "    ])\n",
        "\n",
        "    return model\n"
      ]
    },
    {
      "cell_type": "markdown",
      "metadata": {
        "id": "mPRIXMlxW4-2"
      },
      "source": [
        "### Full Fine-Tuning\n",
        "\n",
        "1. Create a fine-tuning model using the Inception V3 architecture.\n",
        "2. Unfreeze all layers of the base model.\n",
        "3. Add a new classification head with global average pooling, dropout, and a dense layer."
      ]
    },
    {
      "cell_type": "code",
      "execution_count": 11,
      "metadata": {
        "id": "troP8F0VW4-2"
      },
      "outputs": [],
      "source": [
        "def create_full_fine_tuning_model():\n",
        "    \"\"\"Creates model with all layers unfrozen for full fine-tuning\"\"\"\n",
        "\n",
        "    base_model = tf.keras.applications.InceptionV3(\n",
        "        weights='imagenet',\n",
        "        include_top=False,\n",
        "        input_shape=(IMAGE_HEIGHT, IMAGE_WIDTH, 3)\n",
        "    )\n",
        "\n",
        "    # Make all layers trainable\n",
        "    base_model.trainable = True\n",
        "\n",
        "    model = tf.keras.Sequential([\n",
        "        base_model,\n",
        "        tf.keras.layers.GlobalAveragePooling2D(),\n",
        "        tf.keras.layers.Dense(1024, activation='relu'),\n",
        "        tf.keras.layers.Dropout(0.2),\n",
        "        tf.keras.layers.Dense(CLASSES, activation='softmax')\n",
        "    ])\n",
        "\n",
        "    return model\n"
      ]
    },
    {
      "cell_type": "markdown",
      "metadata": {
        "id": "CVds6rKVW4-2"
      },
      "source": [
        "## 4. Model Training\n",
        "\n",
        "## Tasks\n",
        "\n",
        "1. Optimize two different models either using the same transfer learning strategy and two of the three datasets with different sizes or alternatively use one of the datasets with two different learning strategies.\n",
        "\n",
        "2. Find out what the arguments of the early stopping callback function mean.\n",
        "\n",
        "3. Choose appropriate learning rates.\n",
        "Tips for choosing it:\n",
        "- Start with the Default: Begin with the Adam optimizer's default learning rate of 0.001. This is often a good starting point.\n",
        "- When fine-tuning (especially full fine-tuning), consider using a smaller learning rate than the default. This helps prevent large updates to the pre-trained weights, which could disrupt the learned features. A learning rate of 1e-4 or 1e-5 is a good starting point.\n",
        "- The best learning rate will depend on the specific dataset and model. Experiment with different values and observe the training and validation performance. Look for a learning rate that allows the model to converge smoothly without overshooting or getting stuck in a local minimum.\n",
        "\n"
      ]
    },
    {
      "cell_type": "markdown",
      "metadata": {
        "id": "xEvwEFNfSRtR"
      },
      "source": [
        "### Example for Training of the Feature Extraction Model with the Small Dataset"
      ]
    },
    {
      "cell_type": "code",
      "execution_count": 12,
      "metadata": {
        "id": "dN9XU7xYdW2n"
      },
      "outputs": [
        {
          "data": {
            "text/html": [
              "<pre style=\"white-space:pre;overflow-x:auto;line-height:normal;font-family:Menlo,'DejaVu Sans Mono',consolas,'Courier New',monospace\"><span style=\"font-weight: bold\">Model: \"sequential_3\"</span>\n",
              "</pre>\n"
            ],
            "text/plain": [
              "\u001b[1mModel: \"sequential_3\"\u001b[0m\n"
            ]
          },
          "metadata": {},
          "output_type": "display_data"
        },
        {
          "data": {
            "text/html": [
              "<pre style=\"white-space:pre;overflow-x:auto;line-height:normal;font-family:Menlo,'DejaVu Sans Mono',consolas,'Courier New',monospace\">┏━━━━━━━━━━━━━━━━━━━━━━━━━━━━━━━━━┳━━━━━━━━━━━━━━━━━━━━━━━━┳━━━━━━━━━━━━━━━┓\n",
              "┃<span style=\"font-weight: bold\"> Layer (type)                    </span>┃<span style=\"font-weight: bold\"> Output Shape           </span>┃<span style=\"font-weight: bold\">       Param # </span>┃\n",
              "┡━━━━━━━━━━━━━━━━━━━━━━━━━━━━━━━━━╇━━━━━━━━━━━━━━━━━━━━━━━━╇━━━━━━━━━━━━━━━┩\n",
              "│ inception_v3 (<span style=\"color: #0087ff; text-decoration-color: #0087ff\">Functional</span>)       │ (<span style=\"color: #00d7ff; text-decoration-color: #00d7ff\">None</span>, <span style=\"color: #00af00; text-decoration-color: #00af00\">1</span>, <span style=\"color: #00af00; text-decoration-color: #00af00\">1</span>, <span style=\"color: #00af00; text-decoration-color: #00af00\">2048</span>)     │    <span style=\"color: #00af00; text-decoration-color: #00af00\">21,802,784</span> │\n",
              "├─────────────────────────────────┼────────────────────────┼───────────────┤\n",
              "│ global_average_pooling2d_1      │ (<span style=\"color: #00d7ff; text-decoration-color: #00d7ff\">None</span>, <span style=\"color: #00af00; text-decoration-color: #00af00\">2048</span>)           │             <span style=\"color: #00af00; text-decoration-color: #00af00\">0</span> │\n",
              "│ (<span style=\"color: #0087ff; text-decoration-color: #0087ff\">GlobalAveragePooling2D</span>)        │                        │               │\n",
              "├─────────────────────────────────┼────────────────────────┼───────────────┤\n",
              "│ dropout_1 (<span style=\"color: #0087ff; text-decoration-color: #0087ff\">Dropout</span>)             │ (<span style=\"color: #00d7ff; text-decoration-color: #00d7ff\">None</span>, <span style=\"color: #00af00; text-decoration-color: #00af00\">2048</span>)           │             <span style=\"color: #00af00; text-decoration-color: #00af00\">0</span> │\n",
              "├─────────────────────────────────┼────────────────────────┼───────────────┤\n",
              "│ dense_1 (<span style=\"color: #0087ff; text-decoration-color: #0087ff\">Dense</span>)                 │ (<span style=\"color: #00d7ff; text-decoration-color: #00d7ff\">None</span>, <span style=\"color: #00af00; text-decoration-color: #00af00\">3</span>)              │         <span style=\"color: #00af00; text-decoration-color: #00af00\">6,147</span> │\n",
              "└─────────────────────────────────┴────────────────────────┴───────────────┘\n",
              "</pre>\n"
            ],
            "text/plain": [
              "┏━━━━━━━━━━━━━━━━━━━━━━━━━━━━━━━━━┳━━━━━━━━━━━━━━━━━━━━━━━━┳━━━━━━━━━━━━━━━┓\n",
              "┃\u001b[1m \u001b[0m\u001b[1mLayer (type)                   \u001b[0m\u001b[1m \u001b[0m┃\u001b[1m \u001b[0m\u001b[1mOutput Shape          \u001b[0m\u001b[1m \u001b[0m┃\u001b[1m \u001b[0m\u001b[1m      Param #\u001b[0m\u001b[1m \u001b[0m┃\n",
              "┡━━━━━━━━━━━━━━━━━━━━━━━━━━━━━━━━━╇━━━━━━━━━━━━━━━━━━━━━━━━╇━━━━━━━━━━━━━━━┩\n",
              "│ inception_v3 (\u001b[38;5;33mFunctional\u001b[0m)       │ (\u001b[38;5;45mNone\u001b[0m, \u001b[38;5;34m1\u001b[0m, \u001b[38;5;34m1\u001b[0m, \u001b[38;5;34m2048\u001b[0m)     │    \u001b[38;5;34m21,802,784\u001b[0m │\n",
              "├─────────────────────────────────┼────────────────────────┼───────────────┤\n",
              "│ global_average_pooling2d_1      │ (\u001b[38;5;45mNone\u001b[0m, \u001b[38;5;34m2048\u001b[0m)           │             \u001b[38;5;34m0\u001b[0m │\n",
              "│ (\u001b[38;5;33mGlobalAveragePooling2D\u001b[0m)        │                        │               │\n",
              "├─────────────────────────────────┼────────────────────────┼───────────────┤\n",
              "│ dropout_1 (\u001b[38;5;33mDropout\u001b[0m)             │ (\u001b[38;5;45mNone\u001b[0m, \u001b[38;5;34m2048\u001b[0m)           │             \u001b[38;5;34m0\u001b[0m │\n",
              "├─────────────────────────────────┼────────────────────────┼───────────────┤\n",
              "│ dense_1 (\u001b[38;5;33mDense\u001b[0m)                 │ (\u001b[38;5;45mNone\u001b[0m, \u001b[38;5;34m3\u001b[0m)              │         \u001b[38;5;34m6,147\u001b[0m │\n",
              "└─────────────────────────────────┴────────────────────────┴───────────────┘\n"
            ]
          },
          "metadata": {},
          "output_type": "display_data"
        },
        {
          "data": {
            "text/html": [
              "<pre style=\"white-space:pre;overflow-x:auto;line-height:normal;font-family:Menlo,'DejaVu Sans Mono',consolas,'Courier New',monospace\"><span style=\"font-weight: bold\"> Total params: </span><span style=\"color: #00af00; text-decoration-color: #00af00\">21,808,931</span> (83.19 MB)\n",
              "</pre>\n"
            ],
            "text/plain": [
              "\u001b[1m Total params: \u001b[0m\u001b[38;5;34m21,808,931\u001b[0m (83.19 MB)\n"
            ]
          },
          "metadata": {},
          "output_type": "display_data"
        },
        {
          "data": {
            "text/html": [
              "<pre style=\"white-space:pre;overflow-x:auto;line-height:normal;font-family:Menlo,'DejaVu Sans Mono',consolas,'Courier New',monospace\"><span style=\"font-weight: bold\"> Trainable params: </span><span style=\"color: #00af00; text-decoration-color: #00af00\">6,147</span> (24.01 KB)\n",
              "</pre>\n"
            ],
            "text/plain": [
              "\u001b[1m Trainable params: \u001b[0m\u001b[38;5;34m6,147\u001b[0m (24.01 KB)\n"
            ]
          },
          "metadata": {},
          "output_type": "display_data"
        },
        {
          "data": {
            "text/html": [
              "<pre style=\"white-space:pre;overflow-x:auto;line-height:normal;font-family:Menlo,'DejaVu Sans Mono',consolas,'Courier New',monospace\"><span style=\"font-weight: bold\"> Non-trainable params: </span><span style=\"color: #00af00; text-decoration-color: #00af00\">21,802,784</span> (83.17 MB)\n",
              "</pre>\n"
            ],
            "text/plain": [
              "\u001b[1m Non-trainable params: \u001b[0m\u001b[38;5;34m21,802,784\u001b[0m (83.17 MB)\n"
            ]
          },
          "metadata": {},
          "output_type": "display_data"
        }
      ],
      "source": [
        "LEARNING_RATE = 0.001 # Choose appropriately\n",
        "\n",
        "# Settings for the Feature Extraction Model on the small dataset\n",
        "model_feature_extraction_small = create_feature_extraction_model()\n",
        "model_feature_extraction_small.compile(\n",
        "    optimizer=tf.keras.optimizers.Adam(LEARNING_RATE),\n",
        "    loss='sparse_categorical_crossentropy',\n",
        "    metrics=['accuracy']\n",
        ")\n",
        "# Model Summary\n",
        "model_feature_extraction_small.summary()\n"
      ]
    },
    {
      "cell_type": "code",
      "execution_count": 13,
      "metadata": {
        "id": "YoHtBg-0W4-2"
      },
      "outputs": [
        {
          "name": "stdout",
          "output_type": "stream",
          "text": [
            "Epoch 1/100\n",
            "\u001b[1m5/5\u001b[0m \u001b[32m━━━━━━━━━━━━━━━━━━━━\u001b[0m\u001b[37m\u001b[0m \u001b[1m13s\u001b[0m 2s/step - accuracy: 0.4598 - loss: 2.2917 - val_accuracy: 0.3256 - val_loss: 1.7063\n",
            "Epoch 2/100\n",
            "\u001b[1m5/5\u001b[0m \u001b[32m━━━━━━━━━━━━━━━━━━━━\u001b[0m\u001b[37m\u001b[0m \u001b[1m5s\u001b[0m 1s/step - accuracy: 0.5049 - loss: 1.1127 - val_accuracy: 0.3933 - val_loss: 1.6490\n",
            "Epoch 3/100\n",
            "\u001b[1m5/5\u001b[0m \u001b[32m━━━━━━━━━━━━━━━━━━━━\u001b[0m\u001b[37m\u001b[0m \u001b[1m5s\u001b[0m 1s/step - accuracy: 0.3427 - loss: 1.9793 - val_accuracy: 0.4178 - val_loss: 1.5718\n",
            "Epoch 4/100\n",
            "\u001b[1m5/5\u001b[0m \u001b[32m━━━━━━━━━━━━━━━━━━━━\u001b[0m\u001b[37m\u001b[0m \u001b[1m5s\u001b[0m 1s/step - accuracy: 0.3600 - loss: 1.7296 - val_accuracy: 0.4711 - val_loss: 1.2304\n",
            "Epoch 5/100\n",
            "\u001b[1m5/5\u001b[0m \u001b[32m━━━━━━━━━━━━━━━━━━━━\u001b[0m\u001b[37m\u001b[0m \u001b[1m5s\u001b[0m 1s/step - accuracy: 0.5212 - loss: 1.1923 - val_accuracy: 0.5067 - val_loss: 1.0652\n",
            "Epoch 6/100\n",
            "\u001b[1m5/5\u001b[0m \u001b[32m━━━━━━━━━━━━━━━━━━━━\u001b[0m\u001b[37m\u001b[0m \u001b[1m5s\u001b[0m 1s/step - accuracy: 0.6752 - loss: 0.7976 - val_accuracy: 0.5311 - val_loss: 1.0168\n",
            "Epoch 7/100\n",
            "\u001b[1m5/5\u001b[0m \u001b[32m━━━━━━━━━━━━━━━━━━━━\u001b[0m\u001b[37m\u001b[0m \u001b[1m5s\u001b[0m 1s/step - accuracy: 0.7618 - loss: 0.5686 - val_accuracy: 0.5622 - val_loss: 0.9724\n",
            "Epoch 8/100\n",
            "\u001b[1m5/5\u001b[0m \u001b[32m━━━━━━━━━━━━━━━━━━━━\u001b[0m\u001b[37m\u001b[0m \u001b[1m5s\u001b[0m 1s/step - accuracy: 0.6848 - loss: 0.6984 - val_accuracy: 0.5844 - val_loss: 0.9450\n",
            "Epoch 9/100\n",
            "\u001b[1m5/5\u001b[0m \u001b[32m━━━━━━━━━━━━━━━━━━━━\u001b[0m\u001b[37m\u001b[0m \u001b[1m5s\u001b[0m 1s/step - accuracy: 0.7019 - loss: 0.6616 - val_accuracy: 0.6089 - val_loss: 0.9164\n",
            "Epoch 10/100\n",
            "\u001b[1m5/5\u001b[0m \u001b[32m━━━━━━━━━━━━━━━━━━━━\u001b[0m\u001b[37m\u001b[0m \u001b[1m5s\u001b[0m 1s/step - accuracy: 0.7752 - loss: 0.5255 - val_accuracy: 0.6244 - val_loss: 0.8818\n",
            "Epoch 11/100\n",
            "\u001b[1m5/5\u001b[0m \u001b[32m━━━━━━━━━━━━━━━━━━━━\u001b[0m\u001b[37m\u001b[0m \u001b[1m5s\u001b[0m 1s/step - accuracy: 0.7943 - loss: 0.4975 - val_accuracy: 0.6289 - val_loss: 0.8542\n",
            "Epoch 12/100\n",
            "\u001b[1m5/5\u001b[0m \u001b[32m━━━━━━━━━━━━━━━━━━━━\u001b[0m\u001b[37m\u001b[0m \u001b[1m5s\u001b[0m 1s/step - accuracy: 0.7709 - loss: 0.4988 - val_accuracy: 0.6411 - val_loss: 0.8369\n",
            "Epoch 13/100\n",
            "\u001b[1m5/5\u001b[0m \u001b[32m━━━━━━━━━━━━━━━━━━━━\u001b[0m\u001b[37m\u001b[0m \u001b[1m5s\u001b[0m 1s/step - accuracy: 0.8360 - loss: 0.4769 - val_accuracy: 0.6467 - val_loss: 0.8247\n",
            "Epoch 14/100\n",
            "\u001b[1m5/5\u001b[0m \u001b[32m━━━━━━━━━━━━━━━━━━━━\u001b[0m\u001b[37m\u001b[0m \u001b[1m5s\u001b[0m 1s/step - accuracy: 0.8574 - loss: 0.4256 - val_accuracy: 0.6578 - val_loss: 0.8151\n",
            "Epoch 15/100\n",
            "\u001b[1m5/5\u001b[0m \u001b[32m━━━━━━━━━━━━━━━━━━━━\u001b[0m\u001b[37m\u001b[0m \u001b[1m5s\u001b[0m 1s/step - accuracy: 0.9007 - loss: 0.3358 - val_accuracy: 0.6500 - val_loss: 0.8138\n",
            "Epoch 16/100\n",
            "\u001b[1m5/5\u001b[0m \u001b[32m━━━━━━━━━━━━━━━━━━━━\u001b[0m\u001b[37m\u001b[0m \u001b[1m5s\u001b[0m 1s/step - accuracy: 0.8580 - loss: 0.3465 - val_accuracy: 0.6644 - val_loss: 0.8076\n",
            "Epoch 17/100\n",
            "\u001b[1m5/5\u001b[0m \u001b[32m━━━━━━━━━━━━━━━━━━━━\u001b[0m\u001b[37m\u001b[0m \u001b[1m6s\u001b[0m 1s/step - accuracy: 0.8750 - loss: 0.3402 - val_accuracy: 0.6722 - val_loss: 0.7997\n",
            "Epoch 18/100\n",
            "\u001b[1m5/5\u001b[0m \u001b[32m━━━━━━━━━━━━━━━━━━━━\u001b[0m\u001b[37m\u001b[0m \u001b[1m5s\u001b[0m 1s/step - accuracy: 0.8541 - loss: 0.3077 - val_accuracy: 0.6711 - val_loss: 0.7991\n",
            "Epoch 19/100\n",
            "\u001b[1m5/5\u001b[0m \u001b[32m━━━━━━━━━━━━━━━━━━━━\u001b[0m\u001b[37m\u001b[0m \u001b[1m5s\u001b[0m 1s/step - accuracy: 0.8877 - loss: 0.3424 - val_accuracy: 0.6800 - val_loss: 0.7998\n",
            "Epoch 20/100\n",
            "\u001b[1m5/5\u001b[0m \u001b[32m━━━━━━━━━━━━━━━━━━━━\u001b[0m\u001b[37m\u001b[0m \u001b[1m6s\u001b[0m 1s/step - accuracy: 0.9405 - loss: 0.2531 - val_accuracy: 0.6822 - val_loss: 0.7982\n",
            "Epoch 21/100\n",
            "\u001b[1m5/5\u001b[0m \u001b[32m━━━━━━━━━━━━━━━━━━━━\u001b[0m\u001b[37m\u001b[0m \u001b[1m5s\u001b[0m 1s/step - accuracy: 0.9248 - loss: 0.3018 - val_accuracy: 0.6778 - val_loss: 0.7863\n",
            "Epoch 22/100\n",
            "\u001b[1m5/5\u001b[0m \u001b[32m━━━━━━━━━━━━━━━━━━━━\u001b[0m\u001b[37m\u001b[0m \u001b[1m5s\u001b[0m 1s/step - accuracy: 0.9048 - loss: 0.2754 - val_accuracy: 0.6844 - val_loss: 0.7852\n",
            "Epoch 23/100\n",
            "\u001b[1m5/5\u001b[0m \u001b[32m━━━━━━━━━━━━━━━━━━━━\u001b[0m\u001b[37m\u001b[0m \u001b[1m5s\u001b[0m 1s/step - accuracy: 0.9493 - loss: 0.2212 - val_accuracy: 0.6867 - val_loss: 0.7870\n",
            "Epoch 24/100\n",
            "\u001b[1m5/5\u001b[0m \u001b[32m━━━━━━━━━━━━━━━━━━━━\u001b[0m\u001b[37m\u001b[0m \u001b[1m6s\u001b[0m 1s/step - accuracy: 0.9409 - loss: 0.2002 - val_accuracy: 0.6844 - val_loss: 0.7821\n",
            "Epoch 25/100\n",
            "\u001b[1m5/5\u001b[0m \u001b[32m━━━━━━━━━━━━━━━━━━━━\u001b[0m\u001b[37m\u001b[0m \u001b[1m5s\u001b[0m 1s/step - accuracy: 0.9152 - loss: 0.2245 - val_accuracy: 0.6856 - val_loss: 0.7772\n",
            "Epoch 26/100\n",
            "\u001b[1m5/5\u001b[0m \u001b[32m━━━━━━━━━━━━━━━━━━━━\u001b[0m\u001b[37m\u001b[0m \u001b[1m5s\u001b[0m 1s/step - accuracy: 0.9052 - loss: 0.2409 - val_accuracy: 0.6900 - val_loss: 0.7736\n",
            "Epoch 27/100\n",
            "\u001b[1m5/5\u001b[0m \u001b[32m━━━━━━━━━━━━━━━━━━━━\u001b[0m\u001b[37m\u001b[0m \u001b[1m6s\u001b[0m 1s/step - accuracy: 0.9572 - loss: 0.2075 - val_accuracy: 0.6978 - val_loss: 0.7786\n",
            "Epoch 28/100\n",
            "\u001b[1m5/5\u001b[0m \u001b[32m━━━━━━━━━━━━━━━━━━━━\u001b[0m\u001b[37m\u001b[0m \u001b[1m5s\u001b[0m 1s/step - accuracy: 0.9581 - loss: 0.1910 - val_accuracy: 0.6989 - val_loss: 0.7795\n",
            "Epoch 29/100\n",
            "\u001b[1m5/5\u001b[0m \u001b[32m━━━━━━━━━━━━━━━━━━━━\u001b[0m\u001b[37m\u001b[0m \u001b[1m5s\u001b[0m 1s/step - accuracy: 0.9781 - loss: 0.1601 - val_accuracy: 0.7011 - val_loss: 0.7694\n",
            "Epoch 30/100\n",
            "\u001b[1m5/5\u001b[0m \u001b[32m━━━━━━━━━━━━━━━━━━━━\u001b[0m\u001b[37m\u001b[0m \u001b[1m5s\u001b[0m 1s/step - accuracy: 0.9602 - loss: 0.1513 - val_accuracy: 0.7000 - val_loss: 0.7681\n",
            "Epoch 31/100\n",
            "\u001b[1m5/5\u001b[0m \u001b[32m━━━━━━━━━━━━━━━━━━━━\u001b[0m\u001b[37m\u001b[0m \u001b[1m5s\u001b[0m 1s/step - accuracy: 0.9843 - loss: 0.1543 - val_accuracy: 0.7056 - val_loss: 0.7699\n",
            "Epoch 32/100\n",
            "\u001b[1m5/5\u001b[0m \u001b[32m━━━━━━━━━━━━━━━━━━━━\u001b[0m\u001b[37m\u001b[0m \u001b[1m5s\u001b[0m 1s/step - accuracy: 0.9633 - loss: 0.1488 - val_accuracy: 0.7078 - val_loss: 0.7665\n",
            "Epoch 33/100\n",
            "\u001b[1m5/5\u001b[0m \u001b[32m━━━━━━━━━━━━━━━━━━━━\u001b[0m\u001b[37m\u001b[0m \u001b[1m6s\u001b[0m 1s/step - accuracy: 0.9738 - loss: 0.1653 - val_accuracy: 0.7100 - val_loss: 0.7657\n",
            "Epoch 34/100\n",
            "\u001b[1m5/5\u001b[0m \u001b[32m━━━━━━━━━━━━━━━━━━━━\u001b[0m\u001b[37m\u001b[0m \u001b[1m5s\u001b[0m 1s/step - accuracy: 0.9598 - loss: 0.1578 - val_accuracy: 0.7067 - val_loss: 0.7700\n",
            "Epoch 35/100\n",
            "\u001b[1m5/5\u001b[0m \u001b[32m━━━━━━━━━━━━━━━━━━━━\u001b[0m\u001b[37m\u001b[0m \u001b[1m5s\u001b[0m 1s/step - accuracy: 0.9671 - loss: 0.1366 - val_accuracy: 0.7056 - val_loss: 0.7699\n",
            "Epoch 36/100\n",
            "\u001b[1m5/5\u001b[0m \u001b[32m━━━━━━━━━━━━━━━━━━━━\u001b[0m\u001b[37m\u001b[0m \u001b[1m5s\u001b[0m 1s/step - accuracy: 0.9869 - loss: 0.1152 - val_accuracy: 0.7189 - val_loss: 0.7653\n",
            "Epoch 37/100\n",
            "\u001b[1m5/5\u001b[0m \u001b[32m━━━━━━━━━━━━━━━━━━━━\u001b[0m\u001b[37m\u001b[0m \u001b[1m5s\u001b[0m 1s/step - accuracy: 0.9921 - loss: 0.1142 - val_accuracy: 0.7156 - val_loss: 0.7654\n",
            "Epoch 38/100\n",
            "\u001b[1m5/5\u001b[0m \u001b[32m━━━━━━━━━━━━━━━━━━━━\u001b[0m\u001b[37m\u001b[0m \u001b[1m5s\u001b[0m 1s/step - accuracy: 0.9503 - loss: 0.1692 - val_accuracy: 0.7144 - val_loss: 0.7648\n",
            "Epoch 39/100\n",
            "\u001b[1m5/5\u001b[0m \u001b[32m━━━━━━━━━━━━━━━━━━━━\u001b[0m\u001b[37m\u001b[0m \u001b[1m5s\u001b[0m 1s/step - accuracy: 0.9807 - loss: 0.1328 - val_accuracy: 0.7156 - val_loss: 0.7661\n"
          ]
        }
      ],
      "source": [
        "# Model Training\n",
        "history_feature_extraction_small = model_feature_extraction_small.fit(\n",
        "    train_data_small,\n",
        "    validation_data=validation_data,\n",
        "    epochs=100,\n",
        "    callbacks=[\n",
        "        tf.keras.callbacks.EarlyStopping(\n",
        "            monitor='val_accuracy',\n",
        "            patience=3,\n",
        "            restore_best_weights=True\n",
        "        )\n",
        "    ]\n",
        ")"
      ]
    },
    {
      "cell_type": "code",
      "execution_count": 14,
      "metadata": {},
      "outputs": [
        {
          "data": {
            "image/png": "[encoded data removed]",
            "text/plain": [
              "<Figure size 1200x400 with 2 Axes>"
            ]
          },
          "metadata": {},
          "output_type": "display_data"
        }
      ],
      "source": [
        "# lets plot the training history\n",
        "import matplotlib.pyplot as plt\n",
        "\n",
        "def plot_training_history(history):\n",
        "    \"\"\"Plots training and validation accuracy and loss\"\"\"\n",
        "    # Plot training & validation accuracy values\n",
        "    plt.figure(figsize=(12, 4))\n",
        "    plt.subplot(1, 2, 1)\n",
        "    plt.plot(history.history['accuracy'], label='Train Accuracy')\n",
        "    plt.plot(history.history['val_accuracy'], label='Validation Accuracy')\n",
        "    plt.title('Model Accuracy')\n",
        "    plt.ylabel('Accuracy')\n",
        "    plt.xlabel('Epoch')\n",
        "    plt.legend()\n",
        "    \n",
        "    # Plot training & validation loss values\n",
        "    plt.subplot(1, 2, 2)\n",
        "    plt.plot(history.history['loss'], label='Train Loss')\n",
        "    plt.plot(history.history['val_loss'], label='Validation Loss')\n",
        "    plt.title('Model Loss')\n",
        "    plt.ylabel('Loss')\n",
        "    plt.xlabel('Epoch')\n",
        "    plt.legend()\n",
        "    \n",
        "    plt.show()\n",
        "# Plot the training history\n",
        "plot_training_history(history_feature_extraction_small)\n",
        "def plot_training_history(history):\n",
        "    \"\"\"Plots training and validation accuracy and loss\"\"\"\n",
        "    # Plot training & validation accuracy values\n",
        "    plt.figure(figsize=(12, 4))\n",
        "    plt.subplot(1, 2, 1)\n",
        "    plt.plot(history.history['accuracy'], label='Train Accuracy')\n",
        "    plt.plot(history.history['val_accuracy'], label='Validation Accuracy')\n",
        "    plt.title('Model Accuracy')\n",
        "    plt.ylabel('Accuracy')\n",
        "    plt.xlabel('Epoch')\n",
        "    plt.legend()\n",
        "    \n",
        "    # Plot training & validation loss values\n",
        "    plt.subplot(1, 2, 2)\n",
        "    plt.plot(history.history['loss'], label='Train Loss')\n",
        "    plt.plot(history.history['val_loss'], label='Validation Loss')\n",
        "    plt.title('Model Loss')\n",
        "    plt.ylabel('Loss')\n",
        "    plt.xlabel('Epoch')\n",
        "    plt.legend()\n",
        "    \n",
        "    plt.show()"
      ]
    },
    {
      "cell_type": "code",
      "execution_count": null,
      "metadata": {},
      "outputs": [],
      "source": []
    }
  ],
  "metadata": {
    "accelerator": "GPU",
    "colab": {
      "gpuType": "T4",
      "provenance": []
    },
    "kernelspec": {
      "display_name": "Python 3 (ipykernel)",
      "language": "python",
      "name": "python3"
    },
    "language_info": {
      "codemirror_mode": {
        "name": "ipython",
        "version": 3
      },
      "file_extension": ".py",
      "mimetype": "text/x-python",
      "name": "python",
      "nbconvert_exporter": "python",
      "pygments_lexer": "ipython3",
      "version": "3.12.1"
    }
  },
  "nbformat": 4,
  "nbformat_minor": 0
}

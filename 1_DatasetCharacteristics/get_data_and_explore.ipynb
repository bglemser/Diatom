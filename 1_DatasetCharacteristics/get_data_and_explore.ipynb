{
 "cells": [
  {
   "cell_type": "markdown",
   "id": "42b9d918",
   "metadata": {},
   "source": [
    "In this notebook I am getting the data from kaggle and then explore it. I want to get a good overview of my dataset and see some examples."
   ]
  },
  {
   "cell_type": "code",
   "execution_count": null,
   "id": "08a9997a",
   "metadata": {},
   "outputs": [],
   "source": [
    "#get the packages needed\n",
    "import os\n",
    "import sys\n",
    "import pandas as pd\n",
    "import numpy as np\n",
    "import matplotlib.pyplot as plt\n",
    "import seaborn as sns"
   ]
  },
  {
   "cell_type": "markdown",
   "id": "fb43292c",
   "metadata": {},
   "source": [
    "I tried loading the dataset using the kaggle API. This did however not work, as codespaces did not have the required resources and it always terminated the download. I then manually downloaded the data as a zip file and copied it here.\n"
   ]
  },
  {
   "cell_type": "code",
   "execution_count": 5,
   "id": "a752f3e0",
   "metadata": {},
   "outputs": [
    {
     "name": "stdout",
     "output_type": "stream",
     "text": [
      "unzip:  cannot find or open ./1_DatasetCharacteristics/data/ude-diatoms-in-the-wild-2024.zip, ./1_DatasetCharacteristics/data/ude-diatoms-in-the-wild-2024.zip.zip or ./1_DatasetCharacteristics/data/ude-diatoms-in-the-wild-2024.zip.ZIP.\n"
     ]
    }
   ],
   "source": [
    "#unzip the downloaded dataset\n",
    "!unzip ./1_DatasetCharacteristics/data/ude-diatoms-in-the-wild-2024.zip -d ./1_DatasetCharacteristics/data/"
   ]
  }
 ],
 "metadata": {
  "kernelspec": {
   "display_name": "Python 3 (ipykernel)",
   "language": "python",
   "name": "python3"
  }
 },
 "nbformat": 4,
 "nbformat_minor": 5
}
